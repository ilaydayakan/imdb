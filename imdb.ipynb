from bs4 import BeautifulSoup
soup = BeautifulSoup(r.content, 'html.parser')

import csv
import requests
from bs4 import BeautifulSoup
import pandas as pd

URL = "https://www.imdb.com/list/ls057522902/"
r = requests.get(URL)
soup = BeautifulSoup(r.content, 'html5lib')

movies = soup.find_all('div', class_='lister-item-content')

movie_data = []

for movie in movies:
    title = movie.find('h3', class_='lister-item-header').a.text.strip()
    rate = movie.find('span', class_='ipl-rating-star__rating').text.strip() if movie.find('span', class_='ipl-rating-star__rating') else 'N/A'

    # Metascore bazen olmayabilir bunun için kontrol ettim
    metascore_tag = movie.find('span', class_='metascore')
    metascore = metascore_tag.text.strip() if metascore_tag else 'N/A'
    #star oluşturma
    star_tag=movie.find('p' , class_= 'text-muted text-small')
    star=star_tag.text.strip() if star_tag else 'N/A'
    # Tarih oluşturma
    date_tag = movie.find('span', class_='lister-item-year text-muted unbold')
    date = date_tag.text.strip() if date_tag else 'N/A'
    type(date)
    movie_data.append({
        'Title': title,
        'Rating': rate,
        'Metascore': metascore,
        'Date': date,
    })

# Veri çerçevesini oluştur
df = pd.DataFrame(movie_data)

# Veriyi Excel dosyasına yaz
df.to_excel(r'C:\Users\user\Masaüstü\Kitap1.xlsx', index=False)
print(df)

pd.set_option('display.max_columns', 500)
# Rating sütununa göre büyükten küçüğe sırala
df_sorted = df.sort_values(by='Rating', ascending=False)

# Sıralanmış veriyi ekrana yazdır
print(df_sorted)
